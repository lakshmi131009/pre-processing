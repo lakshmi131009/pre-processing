{
  "nbformat": 4,
  "nbformat_minor": 0,
  "metadata": {
    "colab": {
      "name": "DM Project",
      "provenance": [],
      "collapsed_sections": []
    },
    "kernelspec": {
      "name": "python3",
      "display_name": "Python 3"
    }
  },
  "cells": [
    {
      "cell_type": "code",
      "metadata": {
        "id": "-7nSJgrPC-3K",
        "colab": {
          "base_uri": "https://localhost:8080/"
        },
        "outputId": "5cb4c42f-c855-4206-e17f-b32fbb901ef2"
      },
      "source": [
        "from google.colab import drive\n",
        "drive.mount('/content/gdrive', force_remount=True)\n",
        "root_dir = \"/content/gdrive/My Drive/\""
      ],
      "execution_count": 59,
      "outputs": [
        {
          "output_type": "stream",
          "text": [
            "Mounted at /content/gdrive\n"
          ],
          "name": "stdout"
        }
      ]
    },
    {
      "cell_type": "code",
      "metadata": {
        "id": "9SWuraiVEJxP"
      },
      "source": [
        "import pandas as pd\n",
        "dataset = pd.read_csv(root_dir + './Data_preprocessed.csv')"
      ],
      "execution_count": 201,
      "outputs": []
    },
    {
      "cell_type": "code",
      "metadata": {
        "colab": {
          "base_uri": "https://localhost:8080/",
          "height": 197
        },
        "id": "xlFyp3c0Ed6B",
        "outputId": "57cc1bd4-c0df-4901-d69d-62259d3d7c4a"
      },
      "source": [
        "dataset.head(5)"
      ],
      "execution_count": 202,
      "outputs": [
        {
          "output_type": "execute_result",
          "data": {
            "text/html": [
              "<div>\n",
              "<style scoped>\n",
              "    .dataframe tbody tr th:only-of-type {\n",
              "        vertical-align: middle;\n",
              "    }\n",
              "\n",
              "    .dataframe tbody tr th {\n",
              "        vertical-align: top;\n",
              "    }\n",
              "\n",
              "    .dataframe thead th {\n",
              "        text-align: right;\n",
              "    }\n",
              "</style>\n",
              "<table border=\"1\" class=\"dataframe\">\n",
              "  <thead>\n",
              "    <tr style=\"text-align: right;\">\n",
              "      <th></th>\n",
              "      <th>Unnamed: 0</th>\n",
              "      <th>Submission Date</th>\n",
              "      <th>Title</th>\n",
              "      <th>Author</th>\n",
              "      <th>Supervisor</th>\n",
              "      <th>Degree</th>\n",
              "      <th>Department</th>\n",
              "      <th>Abstract</th>\n",
              "    </tr>\n",
              "  </thead>\n",
              "  <tbody>\n",
              "    <tr>\n",
              "      <th>0</th>\n",
              "      <td>0</td>\n",
              "      <td>30-Sep-2020</td>\n",
              "      <td>Generative Models for Zero-Shot and Generalize...</td>\n",
              "      <td>Verma, Vinay Kumar</td>\n",
              "      <td>Rai, Piyush</td>\n",
              "      <td>PH.D.</td>\n",
              "      <td>CSE</td>\n",
              "      <td>Zero-shot learning is the problem of learning ...</td>\n",
              "    </tr>\n",
              "    <tr>\n",
              "      <th>1</th>\n",
              "      <td>1</td>\n",
              "      <td>24-Sep-2020</td>\n",
              "      <td>Recrystallization As a Defect Healing Techniqu...</td>\n",
              "      <td>Vishal, Utkarsh</td>\n",
              "      <td>Shekhar, Shashank</td>\n",
              "      <td>M.TECH.</td>\n",
              "      <td>MSE</td>\n",
              "      <td>In the current world, the major focus is on th...</td>\n",
              "    </tr>\n",
              "    <tr>\n",
              "      <th>2</th>\n",
              "      <td>2</td>\n",
              "      <td>19-Sep-2020</td>\n",
              "      <td>Development of a rapid soil testing tool for r...</td>\n",
              "      <td>Ahmad, Ashar</td>\n",
              "      <td>Singh, Jayant K</td>\n",
              "      <td>M.TECH.</td>\n",
              "      <td>CHE</td>\n",
              "      <td>Rapid increase in population and decline in cu...</td>\n",
              "    </tr>\n",
              "    <tr>\n",
              "      <th>3</th>\n",
              "      <td>3</td>\n",
              "      <td>15-Sep-2020</td>\n",
              "      <td>Optimal Hybrid Precoder Designs for the Linear...</td>\n",
              "      <td>Raghubabu, Akarapu</td>\n",
              "      <td>Jagannatham, Aditya K</td>\n",
              "      <td>M.TECH.</td>\n",
              "      <td>EE</td>\n",
              "      <td>Internet of things (IoT) is the most prominent...</td>\n",
              "    </tr>\n",
              "    <tr>\n",
              "      <th>4</th>\n",
              "      <td>4</td>\n",
              "      <td>15-Sep-2020</td>\n",
              "      <td>Discernment of the Induced Third Order Optical...</td>\n",
              "      <td>Chaturvedi, Umang</td>\n",
              "      <td>Goswami, Debabrata</td>\n",
              "      <td>M.TECH.</td>\n",
              "      <td>CELP</td>\n",
              "      <td>This thesis presents the nonlinear optical beh...</td>\n",
              "    </tr>\n",
              "  </tbody>\n",
              "</table>\n",
              "</div>"
            ],
            "text/plain": [
              "   Unnamed: 0  ...                                           Abstract\n",
              "0           0  ...  Zero-shot learning is the problem of learning ...\n",
              "1           1  ...  In the current world, the major focus is on th...\n",
              "2           2  ...  Rapid increase in population and decline in cu...\n",
              "3           3  ...  Internet of things (IoT) is the most prominent...\n",
              "4           4  ...  This thesis presents the nonlinear optical beh...\n",
              "\n",
              "[5 rows x 8 columns]"
            ]
          },
          "metadata": {
            "tags": []
          },
          "execution_count": 202
        }
      ]
    },
    {
      "cell_type": "code",
      "metadata": {
        "colab": {
          "base_uri": "https://localhost:8080/"
        },
        "id": "zMXPWKSD4ThQ",
        "outputId": "f2ff442e-e8db-429f-8c00-8cd52c1af3ee"
      },
      "source": [
        "dataset.shape"
      ],
      "execution_count": 203,
      "outputs": [
        {
          "output_type": "execute_result",
          "data": {
            "text/plain": [
              "(17293, 8)"
            ]
          },
          "metadata": {
            "tags": []
          },
          "execution_count": 203
        }
      ]
    },
    {
      "cell_type": "code",
      "metadata": {
        "colab": {
          "base_uri": "https://localhost:8080/",
          "height": 197
        },
        "id": "r_KiGSumEhaI",
        "outputId": "3349f5c5-3c5e-4f19-b58b-786e06695487"
      },
      "source": [
        "dataset['word_count'] = dataset['Abstract'].apply(lambda x: len(str(x).split(\" \")))\n",
        "dataset[['Abstract','word_count']].head()"
      ],
      "execution_count": 204,
      "outputs": [
        {
          "output_type": "execute_result",
          "data": {
            "text/html": [
              "<div>\n",
              "<style scoped>\n",
              "    .dataframe tbody tr th:only-of-type {\n",
              "        vertical-align: middle;\n",
              "    }\n",
              "\n",
              "    .dataframe tbody tr th {\n",
              "        vertical-align: top;\n",
              "    }\n",
              "\n",
              "    .dataframe thead th {\n",
              "        text-align: right;\n",
              "    }\n",
              "</style>\n",
              "<table border=\"1\" class=\"dataframe\">\n",
              "  <thead>\n",
              "    <tr style=\"text-align: right;\">\n",
              "      <th></th>\n",
              "      <th>Abstract</th>\n",
              "      <th>word_count</th>\n",
              "    </tr>\n",
              "  </thead>\n",
              "  <tbody>\n",
              "    <tr>\n",
              "      <th>0</th>\n",
              "      <td>Zero-shot learning is the problem of learning ...</td>\n",
              "      <td>304</td>\n",
              "    </tr>\n",
              "    <tr>\n",
              "      <th>1</th>\n",
              "      <td>In the current world, the major focus is on th...</td>\n",
              "      <td>503</td>\n",
              "    </tr>\n",
              "    <tr>\n",
              "      <th>2</th>\n",
              "      <td>Rapid increase in population and decline in cu...</td>\n",
              "      <td>278</td>\n",
              "    </tr>\n",
              "    <tr>\n",
              "      <th>3</th>\n",
              "      <td>Internet of things (IoT) is the most prominent...</td>\n",
              "      <td>259</td>\n",
              "    </tr>\n",
              "    <tr>\n",
              "      <th>4</th>\n",
              "      <td>This thesis presents the nonlinear optical beh...</td>\n",
              "      <td>128</td>\n",
              "    </tr>\n",
              "  </tbody>\n",
              "</table>\n",
              "</div>"
            ],
            "text/plain": [
              "                                            Abstract  word_count\n",
              "0  Zero-shot learning is the problem of learning ...         304\n",
              "1  In the current world, the major focus is on th...         503\n",
              "2  Rapid increase in population and decline in cu...         278\n",
              "3  Internet of things (IoT) is the most prominent...         259\n",
              "4  This thesis presents the nonlinear optical beh...         128"
            ]
          },
          "metadata": {
            "tags": []
          },
          "execution_count": 204
        }
      ]
    },
    {
      "cell_type": "code",
      "metadata": {
        "colab": {
          "base_uri": "https://localhost:8080/"
        },
        "id": "yOePG1aiGIqB",
        "outputId": "b2e760e2-44f3-4d8f-9554-48ccfc2cd97e"
      },
      "source": [
        "dataset.word_count.describe()"
      ],
      "execution_count": 205,
      "outputs": [
        {
          "output_type": "execute_result",
          "data": {
            "text/plain": [
              "count    17293.000000\n",
              "mean       331.775921\n",
              "std        324.931056\n",
              "min         11.000000\n",
              "25%        175.000000\n",
              "50%        246.000000\n",
              "75%        343.000000\n",
              "max       8137.000000\n",
              "Name: word_count, dtype: float64"
            ]
          },
          "metadata": {
            "tags": []
          },
          "execution_count": 205
        }
      ]
    },
    {
      "cell_type": "code",
      "metadata": {
        "id": "iUbTic6SGN9J"
      },
      "source": [
        "#find 50 most frequent words in the dataset and delete them (stop_words)\n",
        "freq = pd.Series(' '.join(dataset['Abstract']).split()).value_counts()[:50]\n",
        "freq = list(freq.index)"
      ],
      "execution_count": 206,
      "outputs": []
    },
    {
      "cell_type": "code",
      "metadata": {
        "colab": {
          "base_uri": "https://localhost:8080/"
        },
        "id": "jQd4SRZNGdNX",
        "outputId": "c8427b15-5646-4db7-aef4-6488272b4a9d"
      },
      "source": [
        "import re\n",
        "import nltk\n",
        "nltk.download('stopwords')\n",
        "from nltk.corpus import stopwords\n",
        "from nltk.stem.porter import PorterStemmer\n",
        "from nltk.tokenize import RegexpTokenizer\n",
        "nltk.download('wordnet') \n",
        "from nltk.stem.wordnet import WordNetLemmatizer"
      ],
      "execution_count": 207,
      "outputs": [
        {
          "output_type": "stream",
          "text": [
            "[nltk_data] Downloading package stopwords to /root/nltk_data...\n",
            "[nltk_data]   Package stopwords is already up-to-date!\n",
            "[nltk_data] Downloading package wordnet to /root/nltk_data...\n",
            "[nltk_data]   Package wordnet is already up-to-date!\n"
          ],
          "name": "stdout"
        }
      ]
    },
    {
      "cell_type": "code",
      "metadata": {
        "id": "XLcLAjV9HyEq"
      },
      "source": [
        "stop_words = set(stopwords.words(\"english\"))"
      ],
      "execution_count": 208,
      "outputs": []
    },
    {
      "cell_type": "code",
      "metadata": {
        "colab": {
          "base_uri": "https://localhost:8080/"
        },
        "id": "8s2y7M6oH3oW",
        "outputId": "6a6ad3e7-3108-4cc5-97b1-b258895598d0"
      },
      "source": [
        "stop_words = stop_words.union(freq)\n",
        "len(stop_words)"
      ],
      "execution_count": 209,
      "outputs": [
        {
          "output_type": "execute_result",
          "data": {
            "text/plain": [
              "197"
            ]
          },
          "metadata": {
            "tags": []
          },
          "execution_count": 209
        }
      ]
    },
    {
      "cell_type": "markdown",
      "metadata": {
        "id": "xpcPoRw04ocx"
      },
      "source": [
        "Perform Stemming + Lemmatisation"
      ]
    },
    {
      "cell_type": "code",
      "metadata": {
        "id": "nltCLufdQfop"
      },
      "source": [
        "corpus = []\n",
        "for i in range(0, dataset.shape[0]):\n",
        "    #Remove punctuations\n",
        "    text = re.sub('[^a-zA-Z]', ' ', dataset['Abstract'][i])\n",
        "    \n",
        "    #Convert to lowercase\n",
        "    text = text.lower()\n",
        "    \n",
        "    #remove tags\n",
        "    text=re.sub(\"&lt;/?.*?&gt;\",\" &lt;&gt; \",text)\n",
        "    \n",
        "    # remove special characters and digits\n",
        "    text=re.sub(\"(\\\\d|\\\\W)+\",\" \",text)\n",
        "    \"\"\"\n",
        "    ##Convert to list from string\n",
        "    text = text.split()\n",
        "    \n",
        "    ##Stemming\n",
        "    ps=PorterStemmer()\n",
        "    #Lemmatisation\n",
        "    lem = WordNetLemmatizer()\n",
        "    text = [lem.lemmatize(word) for word in text if not word in  stop_words] \n",
        "    text = \" \".join(text)\n",
        "    \"\"\"\n",
        "    corpus.append(text)"
      ],
      "execution_count": 210,
      "outputs": []
    },
    {
      "cell_type": "code",
      "metadata": {
        "colab": {
          "base_uri": "https://localhost:8080/"
        },
        "id": "RLaG3MkaJXA3",
        "outputId": "da1bcd79-b018-4af9-c98b-b3d5aa52a25b"
      },
      "source": [
        "len(corpus)"
      ],
      "execution_count": 211,
      "outputs": [
        {
          "output_type": "execute_result",
          "data": {
            "text/plain": [
              "17293"
            ]
          },
          "metadata": {
            "tags": []
          },
          "execution_count": 211
        }
      ]
    },
    {
      "cell_type": "code",
      "metadata": {
        "colab": {
          "base_uri": "https://localhost:8080/",
          "height": 124
        },
        "id": "INHDyr5GJpop",
        "outputId": "587f255d-01db-4ace-c7de-1403b3c32f3b"
      },
      "source": [
        "corpus[0]"
      ],
      "execution_count": 212,
      "outputs": [
        {
          "output_type": "execute_result",
          "data": {
            "application/vnd.google.colaboratory.intrinsic+json": {
              "type": "string"
            },
            "text/plain": [
              "'zero shot learning is the problem of learning to classify objects from classes that were not available at training time essentially zero shot learning assumes that the model is trained using labeled data from some seen classes and the test examples some all can potentially come from unseen classes that were not present at training time this thesis develops novel generative models to solve this problem in principled ways generative models are appealing for this problem for several reasons in particular they help model the underlying distribution of classes in a natural way and can be used to generate data of any class at will by learning a class conditioned generative model which only requires specifying some externally provided class attributes features we first present a simple generative model which models each class by an exponential family distribution conditioned on the class attributes and will show how this incredibly simple construction can lead to highly effective and extensible models e g that enable going from simple exponential family to more sophisticated class distributions for zero shot learning we then present a deep generative model that learns to synthesize data from each class using a combination of generative modeling and deep learning in particular a feedback driven variational auto encoder architecture this construction leverages the natural ability of deep generative models in learning sophisticated class distributions having data from each class now turns zero shot learning into a traditional supervised learning problem finally we present another novel model to further reduce the amount of supervision for the seen class to this end we will see how we can augment deep generative models using a meta learning framework in particular the model agnostic meta learning framework that can lead to substantial reduction in the amount of training data from the seen classes in addition we also present some applications of the proposed zero shot learning models for tasks such as action recognition and sketch based image retrieval '"
            ]
          },
          "metadata": {
            "tags": []
          },
          "execution_count": 212
        }
      ]
    },
    {
      "cell_type": "code",
      "metadata": {
        "id": "-m2S1KhEMH4i"
      },
      "source": [
        "dataset['Corpus'] = corpus"
      ],
      "execution_count": 213,
      "outputs": []
    },
    {
      "cell_type": "code",
      "metadata": {
        "colab": {
          "base_uri": "https://localhost:8080/",
          "height": 297
        },
        "id": "ikSgKyk9P0Hr",
        "outputId": "85b9ead3-c3ac-4c18-e84b-9c382cc60b5a"
      },
      "source": [
        "dataset.head(5)"
      ],
      "execution_count": 214,
      "outputs": [
        {
          "output_type": "execute_result",
          "data": {
            "text/html": [
              "<div>\n",
              "<style scoped>\n",
              "    .dataframe tbody tr th:only-of-type {\n",
              "        vertical-align: middle;\n",
              "    }\n",
              "\n",
              "    .dataframe tbody tr th {\n",
              "        vertical-align: top;\n",
              "    }\n",
              "\n",
              "    .dataframe thead th {\n",
              "        text-align: right;\n",
              "    }\n",
              "</style>\n",
              "<table border=\"1\" class=\"dataframe\">\n",
              "  <thead>\n",
              "    <tr style=\"text-align: right;\">\n",
              "      <th></th>\n",
              "      <th>Unnamed: 0</th>\n",
              "      <th>Submission Date</th>\n",
              "      <th>Title</th>\n",
              "      <th>Author</th>\n",
              "      <th>Supervisor</th>\n",
              "      <th>Degree</th>\n",
              "      <th>Department</th>\n",
              "      <th>Abstract</th>\n",
              "      <th>word_count</th>\n",
              "      <th>Corpus</th>\n",
              "    </tr>\n",
              "  </thead>\n",
              "  <tbody>\n",
              "    <tr>\n",
              "      <th>0</th>\n",
              "      <td>0</td>\n",
              "      <td>30-Sep-2020</td>\n",
              "      <td>Generative Models for Zero-Shot and Generalize...</td>\n",
              "      <td>Verma, Vinay Kumar</td>\n",
              "      <td>Rai, Piyush</td>\n",
              "      <td>PH.D.</td>\n",
              "      <td>CSE</td>\n",
              "      <td>Zero-shot learning is the problem of learning ...</td>\n",
              "      <td>304</td>\n",
              "      <td>zero shot learning is the problem of learning ...</td>\n",
              "    </tr>\n",
              "    <tr>\n",
              "      <th>1</th>\n",
              "      <td>1</td>\n",
              "      <td>24-Sep-2020</td>\n",
              "      <td>Recrystallization As a Defect Healing Techniqu...</td>\n",
              "      <td>Vishal, Utkarsh</td>\n",
              "      <td>Shekhar, Shashank</td>\n",
              "      <td>M.TECH.</td>\n",
              "      <td>MSE</td>\n",
              "      <td>In the current world, the major focus is on th...</td>\n",
              "      <td>503</td>\n",
              "      <td>in the current world the major focus is on the...</td>\n",
              "    </tr>\n",
              "    <tr>\n",
              "      <th>2</th>\n",
              "      <td>2</td>\n",
              "      <td>19-Sep-2020</td>\n",
              "      <td>Development of a rapid soil testing tool for r...</td>\n",
              "      <td>Ahmad, Ashar</td>\n",
              "      <td>Singh, Jayant K</td>\n",
              "      <td>M.TECH.</td>\n",
              "      <td>CHE</td>\n",
              "      <td>Rapid increase in population and decline in cu...</td>\n",
              "      <td>278</td>\n",
              "      <td>rapid increase in population and decline in cu...</td>\n",
              "    </tr>\n",
              "    <tr>\n",
              "      <th>3</th>\n",
              "      <td>3</td>\n",
              "      <td>15-Sep-2020</td>\n",
              "      <td>Optimal Hybrid Precoder Designs for the Linear...</td>\n",
              "      <td>Raghubabu, Akarapu</td>\n",
              "      <td>Jagannatham, Aditya K</td>\n",
              "      <td>M.TECH.</td>\n",
              "      <td>EE</td>\n",
              "      <td>Internet of things (IoT) is the most prominent...</td>\n",
              "      <td>259</td>\n",
              "      <td>internet of things iot is the most prominent t...</td>\n",
              "    </tr>\n",
              "    <tr>\n",
              "      <th>4</th>\n",
              "      <td>4</td>\n",
              "      <td>15-Sep-2020</td>\n",
              "      <td>Discernment of the Induced Third Order Optical...</td>\n",
              "      <td>Chaturvedi, Umang</td>\n",
              "      <td>Goswami, Debabrata</td>\n",
              "      <td>M.TECH.</td>\n",
              "      <td>CELP</td>\n",
              "      <td>This thesis presents the nonlinear optical beh...</td>\n",
              "      <td>128</td>\n",
              "      <td>this thesis presents the nonlinear optical beh...</td>\n",
              "    </tr>\n",
              "  </tbody>\n",
              "</table>\n",
              "</div>"
            ],
            "text/plain": [
              "   Unnamed: 0  ...                                             Corpus\n",
              "0           0  ...  zero shot learning is the problem of learning ...\n",
              "1           1  ...  in the current world the major focus is on the...\n",
              "2           2  ...  rapid increase in population and decline in cu...\n",
              "3           3  ...  internet of things iot is the most prominent t...\n",
              "4           4  ...  this thesis presents the nonlinear optical beh...\n",
              "\n",
              "[5 rows x 10 columns]"
            ]
          },
          "metadata": {
            "tags": []
          },
          "execution_count": 214
        }
      ]
    },
    {
      "cell_type": "code",
      "metadata": {
        "id": "H5EEySF7P0J-"
      },
      "source": [
        "dataset['word_count_corpus'] = dataset['Corpus'].apply(lambda x: len(str(x).split(\" \")))"
      ],
      "execution_count": 215,
      "outputs": []
    },
    {
      "cell_type": "code",
      "metadata": {
        "colab": {
          "base_uri": "https://localhost:8080/",
          "height": 197
        },
        "id": "MqcP-4-XP0Xc",
        "outputId": "93b17b05-a6ac-48ba-b0d9-66a9df63124f"
      },
      "source": [
        "dataset[['Abstract', 'Corpus', 'word_count', 'word_count_corpus']].head()"
      ],
      "execution_count": 216,
      "outputs": [
        {
          "output_type": "execute_result",
          "data": {
            "text/html": [
              "<div>\n",
              "<style scoped>\n",
              "    .dataframe tbody tr th:only-of-type {\n",
              "        vertical-align: middle;\n",
              "    }\n",
              "\n",
              "    .dataframe tbody tr th {\n",
              "        vertical-align: top;\n",
              "    }\n",
              "\n",
              "    .dataframe thead th {\n",
              "        text-align: right;\n",
              "    }\n",
              "</style>\n",
              "<table border=\"1\" class=\"dataframe\">\n",
              "  <thead>\n",
              "    <tr style=\"text-align: right;\">\n",
              "      <th></th>\n",
              "      <th>Abstract</th>\n",
              "      <th>Corpus</th>\n",
              "      <th>word_count</th>\n",
              "      <th>word_count_corpus</th>\n",
              "    </tr>\n",
              "  </thead>\n",
              "  <tbody>\n",
              "    <tr>\n",
              "      <th>0</th>\n",
              "      <td>Zero-shot learning is the problem of learning ...</td>\n",
              "      <td>zero shot learning is the problem of learning ...</td>\n",
              "      <td>304</td>\n",
              "      <td>326</td>\n",
              "    </tr>\n",
              "    <tr>\n",
              "      <th>1</th>\n",
              "      <td>In the current world, the major focus is on th...</td>\n",
              "      <td>in the current world the major focus is on the...</td>\n",
              "      <td>503</td>\n",
              "      <td>518</td>\n",
              "    </tr>\n",
              "    <tr>\n",
              "      <th>2</th>\n",
              "      <td>Rapid increase in population and decline in cu...</td>\n",
              "      <td>rapid increase in population and decline in cu...</td>\n",
              "      <td>278</td>\n",
              "      <td>280</td>\n",
              "    </tr>\n",
              "    <tr>\n",
              "      <th>3</th>\n",
              "      <td>Internet of things (IoT) is the most prominent...</td>\n",
              "      <td>internet of things iot is the most prominent t...</td>\n",
              "      <td>259</td>\n",
              "      <td>279</td>\n",
              "    </tr>\n",
              "    <tr>\n",
              "      <th>4</th>\n",
              "      <td>This thesis presents the nonlinear optical beh...</td>\n",
              "      <td>this thesis presents the nonlinear optical beh...</td>\n",
              "      <td>128</td>\n",
              "      <td>135</td>\n",
              "    </tr>\n",
              "  </tbody>\n",
              "</table>\n",
              "</div>"
            ],
            "text/plain": [
              "                                            Abstract  ... word_count_corpus\n",
              "0  Zero-shot learning is the problem of learning ...  ...               326\n",
              "1  In the current world, the major focus is on th...  ...               518\n",
              "2  Rapid increase in population and decline in cu...  ...               280\n",
              "3  Internet of things (IoT) is the most prominent...  ...               279\n",
              "4  This thesis presents the nonlinear optical beh...  ...               135\n",
              "\n",
              "[5 rows x 4 columns]"
            ]
          },
          "metadata": {
            "tags": []
          },
          "execution_count": 216
        }
      ]
    },
    {
      "cell_type": "code",
      "metadata": {
        "colab": {
          "base_uri": "https://localhost:8080/",
          "height": 287
        },
        "id": "i1S_IYxTP0bJ",
        "outputId": "65548d32-7de1-4b1a-ec0b-b1c67dfa75ba"
      },
      "source": [
        "dataset.describe()"
      ],
      "execution_count": 217,
      "outputs": [
        {
          "output_type": "execute_result",
          "data": {
            "text/html": [
              "<div>\n",
              "<style scoped>\n",
              "    .dataframe tbody tr th:only-of-type {\n",
              "        vertical-align: middle;\n",
              "    }\n",
              "\n",
              "    .dataframe tbody tr th {\n",
              "        vertical-align: top;\n",
              "    }\n",
              "\n",
              "    .dataframe thead th {\n",
              "        text-align: right;\n",
              "    }\n",
              "</style>\n",
              "<table border=\"1\" class=\"dataframe\">\n",
              "  <thead>\n",
              "    <tr style=\"text-align: right;\">\n",
              "      <th></th>\n",
              "      <th>Unnamed: 0</th>\n",
              "      <th>word_count</th>\n",
              "      <th>word_count_corpus</th>\n",
              "    </tr>\n",
              "  </thead>\n",
              "  <tbody>\n",
              "    <tr>\n",
              "      <th>count</th>\n",
              "      <td>17293.000000</td>\n",
              "      <td>17293.000000</td>\n",
              "      <td>17293.000000</td>\n",
              "    </tr>\n",
              "    <tr>\n",
              "      <th>mean</th>\n",
              "      <td>8792.003180</td>\n",
              "      <td>331.775921</td>\n",
              "      <td>327.419071</td>\n",
              "    </tr>\n",
              "    <tr>\n",
              "      <th>std</th>\n",
              "      <td>5158.247395</td>\n",
              "      <td>324.931056</td>\n",
              "      <td>304.644921</td>\n",
              "    </tr>\n",
              "    <tr>\n",
              "      <th>min</th>\n",
              "      <td>0.000000</td>\n",
              "      <td>11.000000</td>\n",
              "      <td>12.000000</td>\n",
              "    </tr>\n",
              "    <tr>\n",
              "      <th>25%</th>\n",
              "      <td>4326.000000</td>\n",
              "      <td>175.000000</td>\n",
              "      <td>176.000000</td>\n",
              "    </tr>\n",
              "    <tr>\n",
              "      <th>50%</th>\n",
              "      <td>8681.000000</td>\n",
              "      <td>246.000000</td>\n",
              "      <td>248.000000</td>\n",
              "    </tr>\n",
              "    <tr>\n",
              "      <th>75%</th>\n",
              "      <td>13191.000000</td>\n",
              "      <td>343.000000</td>\n",
              "      <td>344.000000</td>\n",
              "    </tr>\n",
              "    <tr>\n",
              "      <th>max</th>\n",
              "      <td>17983.000000</td>\n",
              "      <td>8137.000000</td>\n",
              "      <td>7105.000000</td>\n",
              "    </tr>\n",
              "  </tbody>\n",
              "</table>\n",
              "</div>"
            ],
            "text/plain": [
              "         Unnamed: 0    word_count  word_count_corpus\n",
              "count  17293.000000  17293.000000       17293.000000\n",
              "mean    8792.003180    331.775921         327.419071\n",
              "std     5158.247395    324.931056         304.644921\n",
              "min        0.000000     11.000000          12.000000\n",
              "25%     4326.000000    175.000000         176.000000\n",
              "50%     8681.000000    246.000000         248.000000\n",
              "75%    13191.000000    343.000000         344.000000\n",
              "max    17983.000000   8137.000000        7105.000000"
            ]
          },
          "metadata": {
            "tags": []
          },
          "execution_count": 217
        }
      ]
    },
    {
      "cell_type": "code",
      "metadata": {
        "colab": {
          "base_uri": "https://localhost:8080/",
          "height": 215
        },
        "id": "nKV7mNhsP0eo",
        "outputId": "165d4050-d47b-47ff-920c-22cef37d1100"
      },
      "source": [
        "#word cloud of the entire dataset (according to most frequent words)\n",
        "from os import path\n",
        "from PIL import Image\n",
        "from wordcloud import WordCloud, STOPWORDS, ImageColorGenerator\n",
        "import matplotlib.pyplot as plt\n",
        "% matplotlib inline\n",
        "wordcloud = WordCloud(    background_color='white',\n",
        "                          stopwords=stop_words,\n",
        "                          max_words=100,\n",
        "                          max_font_size=50, \n",
        "                          random_state=42\n",
        "                         ).generate(str(corpus))\n",
        "print(wordcloud)\n",
        "fig = plt.figure(1)\n",
        "plt.imshow(wordcloud)\n",
        "plt.axis('off')\n",
        "plt.show()"
      ],
      "execution_count": 125,
      "outputs": [
        {
          "output_type": "stream",
          "text": [
            "<wordcloud.wordcloud.WordCloud object at 0x7f1060cc8ba8>\n"
          ],
          "name": "stdout"
        },
        {
          "output_type": "display_data",
          "data": {
            "image/png": "[encoded data removed]",
            "text/plain": [
              "<Figure size 432x288 with 1 Axes>"
            ]
          },
          "metadata": {
            "tags": [],
            "needs_background": "light"
          }
        }
      ]
    },
    {
      "cell_type": "markdown",
      "metadata": {
        "id": "_z6IFeJI5830"
      },
      "source": [
        "TF-IDF"
      ]
    },
    {
      "cell_type": "code",
      "metadata": {
        "id": "idEHc0ukP0V1"
      },
      "source": [
        "from sklearn.feature_extraction.text import CountVectorizer\n",
        "import re\n",
        "cv = CountVectorizer(stop_words=stop_words)\n",
        "#cv = CountVectorizer(stop_words=stop_words)\n",
        "X = cv.fit_transform(corpus)"
      ],
      "execution_count": 221,
      "outputs": []
    },
    {
      "cell_type": "code",
      "metadata": {
        "colab": {
          "base_uri": "https://localhost:8080/"
        },
        "id": "5r8UOsJeP0T_",
        "outputId": "1c700649-c8b8-41fd-ebde-d1a91c5c20e6"
      },
      "source": [
        "X"
      ],
      "execution_count": 222,
      "outputs": [
        {
          "output_type": "execute_result",
          "data": {
            "text/plain": [
              "<17293x112882 sparse matrix of type '<class 'numpy.int64'>'\n",
              "\twith 2018312 stored elements in Compressed Sparse Row format>"
            ]
          },
          "metadata": {
            "tags": []
          },
          "execution_count": 222
        }
      ]
    },
    {
      "cell_type": "code",
      "metadata": {
        "id": "ACE2KJhEP0SW",
        "colab": {
          "base_uri": "https://localhost:8080/"
        },
        "outputId": "bcf7fc0e-b63b-4fa4-9914-b1c5d8231e5f"
      },
      "source": [
        "from sklearn.feature_extraction.text import TfidfTransformer\n",
        " \n",
        "tfidf_transformer = TfidfTransformer(smooth_idf=True,use_idf=True)\n",
        "tfidf_transformer.fit(X)\n",
        "# get feature names\n",
        "feature_names = cv.get_feature_names()\n",
        "feature_names"
      ],
      "execution_count": 220,
      "outputs": [
        {
          "output_type": "execute_result",
          "data": {
            "text/plain": [
              "['aa',\n",
              " 'aaa',\n",
              " 'aaaa',\n",
              " 'aaaaigs',\n",
              " 'aaaignment',\n",
              " 'aaain',\n",
              " 'aaann',\n",
              " 'aaaociatad',\n",
              " 'aaas',\n",
              " 'aab',\n",
              " 'aac',\n",
              " 'aacfs',\n",
              " 'aachen',\n",
              " 'aad',\n",
              " 'aada',\n",
              " 'aading',\n",
              " 'aadt',\n",
              " 'aadverse',\n",
              " 'aae',\n",
              " 'aag',\n",
              " 'aage',\n",
              " 'aahp',\n",
              " 'aain',\n",
              " 'aaiswer',\n",
              " 'aakes',\n",
              " 'aal',\n",
              " 'aalap',\n",
              " 'aalb',\n",
              " 'aalin',\n",
              " 'aalso',\n",
              " 'aalst',\n",
              " 'aam',\n",
              " 'aame',\n",
              " 'aamic',\n",
              " 'aamir',\n",
              " 'aams',\n",
              " 'aan',\n",
              " 'aand',\n",
              " 'aandg',\n",
              " 'aanual',\n",
              " 'aao',\n",
              " 'aap',\n",
              " 'aaphson',\n",
              " 'aappropriate',\n",
              " 'aaq',\n",
              " 'aaqms',\n",
              " 'aar',\n",
              " 'aarogyasri',\n",
              " 'aaroh',\n",
              " 'aaron',\n",
              " 'aaronautlcal',\n",
              " 'aaronson',\n",
              " 'aas',\n",
              " 'aasand',\n",
              " 'aasho',\n",
              " 'aashto',\n",
              " 'aat',\n",
              " 'aatp',\n",
              " 'aav',\n",
              " 'aavaral',\n",
              " 'aawlf',\n",
              " 'aawnchronoua',\n",
              " 'ab',\n",
              " 'aba',\n",
              " 'abab',\n",
              " 'abackup',\n",
              " 'abacus',\n",
              " 'abad',\n",
              " 'abadie',\n",
              " 'abandon',\n",
              " 'abandoned',\n",
              " 'abandonee',\n",
              " 'abandonment',\n",
              " 'abandwidth',\n",
              " 'abank',\n",
              " 'abanyan',\n",
              " 'abaqus',\n",
              " 'abarrel',\n",
              " 'abasal',\n",
              " 'abase',\n",
              " 'abased',\n",
              " 'abastract',\n",
              " 'abate',\n",
              " 'abatement',\n",
              " 'abatementprogrammes',\n",
              " 'abb',\n",
              " 'abba',\n",
              " 'abbe',\n",
              " 'abbeys',\n",
              " 'abbott',\n",
              " 'abbreviate',\n",
              " 'abbreviated',\n",
              " 'abbreviating',\n",
              " 'abbreviation',\n",
              " 'abbzzvvbb',\n",
              " 'abc',\n",
              " 'abcanalysis',\n",
              " 'abcco',\n",
              " 'abcd',\n",
              " 'abcomponents',\n",
              " 'abd',\n",
              " 'abdomen',\n",
              " 'abdominal',\n",
              " 'abduction',\n",
              " 'abductive',\n",
              " 'abductor',\n",
              " 'abe',\n",
              " 'abeam',\n",
              " 'abeb',\n",
              " 'abed',\n",
              " 'abehavioral',\n",
              " 'abel',\n",
              " 'abeli',\n",
              " 'abelian',\n",
              " 'abelianand',\n",
              " 'abelin',\n",
              " 'abeline',\n",
              " 'abeoabietate',\n",
              " 'abeoabietic',\n",
              " 'aber',\n",
              " 'aberrant',\n",
              " 'aberrated',\n",
              " 'aberration',\n",
              " 'aberrations',\n",
              " 'abetted',\n",
              " 'abetter',\n",
              " 'abettercoke',\n",
              " 'abf',\n",
              " 'abhava',\n",
              " 'abhijit',\n",
              " 'abhinavagupta',\n",
              " 'abhor',\n",
              " 'abi',\n",
              " 'abiad',\n",
              " 'abide',\n",
              " 'abiding',\n",
              " 'abietate',\n",
              " 'abietic',\n",
              " 'abig',\n",
              " 'abilinear',\n",
              " 'abilit',\n",
              " 'abilities',\n",
              " 'ability',\n",
              " 'abilityof',\n",
              " 'abilty',\n",
              " 'abinary',\n",
              " 'abinteractions',\n",
              " 'abiotic',\n",
              " 'abiotically',\n",
              " 'abituminous',\n",
              " 'abj',\n",
              " 'abl',\n",
              " 'ablanking',\n",
              " 'ablate',\n",
              " 'ablated',\n",
              " 'ablatedplume',\n",
              " 'ablating',\n",
              " 'ablation',\n",
              " 'ablationin',\n",
              " 'ablationregime',\n",
              " 'ablative',\n",
              " 'able',\n",
              " 'abled',\n",
              " 'ables',\n",
              " 'ableto',\n",
              " 'ablian',\n",
              " 'ablockage',\n",
              " 'ably',\n",
              " 'abm',\n",
              " 'abmissible',\n",
              " 'abmp',\n",
              " 'abnormal',\n",
              " 'abnormalities',\n",
              " 'abnormality',\n",
              " 'abnormally',\n",
              " 'abnoxious',\n",
              " 'abo',\n",
              " 'aboard',\n",
              " 'abobe',\n",
              " 'abode',\n",
              " 'abola',\n",
              " 'abolic',\n",
              " 'abolished',\n",
              " 'abolishes',\n",
              " 'abolition',\n",
              " 'abomber',\n",
              " 'aborated',\n",
              " 'aboratory',\n",
              " 'aborption',\n",
              " 'abortion',\n",
              " 'abortions',\n",
              " 'aborts',\n",
              " 'abos',\n",
              " 'abottom',\n",
              " 'abou',\n",
              " 'aboub',\n",
              " 'abouse',\n",
              " 'abouta',\n",
              " 'aboutan',\n",
              " 'aboutarmy',\n",
              " 'aboutbefore',\n",
              " 'aboutchanges',\n",
              " 'aboutdouble',\n",
              " 'aboutnq',\n",
              " 'aboutone',\n",
              " 'aboutselective',\n",
              " 'aboutthe',\n",
              " 'aboutthem',\n",
              " 'abov',\n",
              " 'abovea',\n",
              " 'aboveare',\n",
              " 'aboveassumptions',\n",
              " 'aboveconclusions',\n",
              " 'abovecould',\n",
              " 'abovecriteria',\n",
              " 'abovediscussed',\n",
              " 'aboveelbow',\n",
              " 'aboveexperiments',\n",
              " 'abovef',\n",
              " 'abovefields',\n",
              " 'abovegeometrical',\n",
              " 'abovelimitations',\n",
              " 'abovemaintained',\n",
              " 'abovemarker',\n",
              " 'abovementioned',\n",
              " 'abovemethod',\n",
              " 'abovemethods',\n",
              " 'aboveperspective',\n",
              " 'aboveproblem',\n",
              " 'abovepurpose',\n",
              " 'aboverequirement',\n",
              " 'aboverequirements',\n",
              " 'abovereview',\n",
              " 'abovescheme',\n",
              " 'abovetechniques',\n",
              " 'abovethe',\n",
              " 'abovetype',\n",
              " 'abp',\n",
              " 'abpe',\n",
              " 'abpkkbpkapkbpkdkdtda',\n",
              " 'abps',\n",
              " 'abr',\n",
              " 'abradable',\n",
              " 'abrade',\n",
              " 'abraded',\n",
              " 'abrades',\n",
              " 'abrading',\n",
              " 'abradingmedium',\n",
              " 'abraham',\n",
              " 'abrahamson',\n",
              " 'abramowicz',\n",
              " 'abrams',\n",
              " 'abraser',\n",
              " 'abrasi',\n",
              " 'abrasion',\n",
              " 'abrasionresistance',\n",
              " 'abrasions',\n",
              " 'abrasive',\n",
              " 'abrasiveconcentration',\n",
              " 'abrasivecosts',\n",
              " 'abrasiveless',\n",
              " 'abrasiveparticles',\n",
              " 'abrasives',\n",
              " 'abrasivesize',\n",
              " 'abrastive',\n",
              " 'abrham',\n",
              " 'abricate',\n",
              " 'abrication',\n",
              " 'abridge',\n",
              " 'abrief',\n",
              " 'abrikosov',\n",
              " 'abroad',\n",
              " 'abrogated',\n",
              " 'abrogates',\n",
              " 'abrs',\n",
              " 'abrupt',\n",
              " 'abruptly',\n",
              " 'abruptlyrelease',\n",
              " 'abs',\n",
              " 'abscent',\n",
              " 'abscesses',\n",
              " 'abscissa',\n",
              " 'abscrblng',\n",
              " 'absence',\n",
              " 'absenceof',\n",
              " 'absences',\n",
              " 'absent',\n",
              " 'absenteeism',\n",
              " 'absentfor',\n",
              " 'absfurther',\n",
              " 'abso',\n",
              " 'absolute',\n",
              " 'absolutegeneral',\n",
              " 'absolutely',\n",
              " 'absolutelyconvergent',\n",
              " 'absolutestereocontrol',\n",
              " 'absolutevalues',\n",
              " 'absolutions',\n",
              " 'absolve',\n",
              " 'absorb',\n",
              " 'absorbability',\n",
              " 'absorbance',\n",
              " 'absorbances',\n",
              " 'absorbed',\n",
              " 'absorbent',\n",
              " 'absorbents',\n",
              " 'absorber',\n",
              " 'absorberplate',\n",
              " 'absorbers',\n",
              " 'absorbing',\n",
              " 'absorbs',\n",
              " 'absorbtion',\n",
              " 'absorbtivity',\n",
              " 'absorhing',\n",
              " 'absorp',\n",
              " 'absorpti',\n",
              " 'absorption',\n",
              " 'absorptionand',\n",
              " 'absorptioncapabilities',\n",
              " 'absorptioncharacteristic',\n",
              " 'absorptioncharacteristics',\n",
              " 'absorptionenhancement',\n",
              " 'absorptionevents',\n",
              " 'absorptionmaxima',\n",
              " 'absorptionproperties',\n",
              " 'absorptions',\n",
              " 'absorptionspectroscopysintering',\n",
              " 'absorptionspectrum',\n",
              " 'absorptionwith',\n",
              " 'absorptioui',\n",
              " 'absorptive',\n",
              " 'absorptivity',\n",
              " 'abstarct',\n",
              " 'abstract',\n",
              " 'abstracta',\n",
              " 'abstractat',\n",
              " 'abstractcomputational',\n",
              " 'abstractconversing',\n",
              " 'abstractcryptanalysis',\n",
              " 'abstractdistributed',\n",
              " 'abstracted',\n",
              " 'abstractgiven',\n",
              " 'abstractheart',\n",
              " 'abstracthelp',\n",
              " 'abstractif',\n",
              " 'abstractin',\n",
              " 'abstracting',\n",
              " 'abstractingitself',\n",
              " 'abstractinternet',\n",
              " 'abstraction',\n",
              " 'abstractionof',\n",
              " 'abstractions',\n",
              " 'abstractionsof',\n",
              " 'abstractive',\n",
              " 'abstractlearnability',\n",
              " 'abstractmcs',\n",
              " 'abstractminimization',\n",
              " 'abstractness',\n",
              " 'abstractparallel',\n",
              " 'abstractproper',\n",
              " 'abstractremoval',\n",
              " 'abstractretaining',\n",
              " 'abstracts',\n",
              " 'abstractsolution',\n",
              " 'abstractsoundness',\n",
              " 'abstractspeech',\n",
              " 'abstractsurface',\n",
              " 'abstracttesting',\n",
              " 'abstractthe',\n",
              " 'abstractthis',\n",
              " 'abstracttoday',\n",
              " 'abstractunderstanding',\n",
              " 'abstractvisibly',\n",
              " 'abstractwe',\n",
              " 'abstraetin',\n",
              " 'abstration',\n",
              " 'abstrct',\n",
              " 'abstruse',\n",
              " 'abt',\n",
              " 'abtained',\n",
              " 'abtianed',\n",
              " 'abtracts',\n",
              " 'abtt',\n",
              " 'abu',\n",
              " 'abuffered',\n",
              " 'abulated',\n",
              " 'abulating',\n",
              " 'abump',\n",
              " 'abundance',\n",
              " 'abundances',\n",
              " 'abundancy',\n",
              " 'abundant',\n",
              " 'abundantly',\n",
              " 'abundence',\n",
              " 'abundle',\n",
              " 'abundleof',\n",
              " 'abuse',\n",
              " 'abused',\n",
              " 'abuses',\n",
              " 'abut',\n",
              " 'abutm',\n",
              " 'abutment',\n",
              " 'abutments',\n",
              " 'abutting',\n",
              " 'abx',\n",
              " 'abyss',\n",
              " 'abzug',\n",
              " 'ac',\n",
              " 'aca',\n",
              " 'acac',\n",
              " 'acacia',\n",
              " 'acad',\n",
              " 'academia',\n",
              " 'academic',\n",
              " 'academically',\n",
              " 'academicians',\n",
              " 'academicinstitute',\n",
              " 'academicinstitutes',\n",
              " 'academics',\n",
              " 'academicscientist',\n",
              " 'academy',\n",
              " 'acadinnet',\n",
              " 'acantilever',\n",
              " 'acarbose',\n",
              " 'acareful',\n",
              " 'acaring',\n",
              " 'acase',\n",
              " 'acatalyst',\n",
              " 'acb',\n",
              " 'acbs',\n",
              " 'acc',\n",
              " 'acce',\n",
              " 'accelectrometers',\n",
              " 'acceler',\n",
              " 'accelerate',\n",
              " 'accelerated',\n",
              " 'accelerateduniform',\n",
              " 'accelerates',\n",
              " 'accelerati',\n",
              " 'accelerating',\n",
              " 'acceleratingcavities',\n",
              " 'acceleration',\n",
              " 'accelerationapproach',\n",
              " 'accelerationhave',\n",
              " 'accelerationof',\n",
              " 'accelerationresponse',\n",
              " 'accelerations',\n",
              " 'accelerative',\n",
              " 'acceleratons',\n",
              " 'accelerator',\n",
              " 'acceleratordrivensub',\n",
              " 'accelerators',\n",
              " 'accelero',\n",
              " 'accelerogram',\n",
              " 'accelerograms',\n",
              " 'accelerographs',\n",
              " 'accelerometer',\n",
              " 'accelerometers',\n",
              " 'accent',\n",
              " 'accentuate',\n",
              " 'accentuated',\n",
              " 'accentuates',\n",
              " 'accentuating',\n",
              " 'accentuation',\n",
              " 'accep',\n",
              " 'accept',\n",
              " 'acceptability',\n",
              " 'acceptabl',\n",
              " 'acceptable',\n",
              " 'acceptableaccuracy',\n",
              " 'acceptablentb',\n",
              " 'acceptably',\n",
              " 'acceptance',\n",
              " 'acceptancecontrol',\n",
              " 'acceptancerate',\n",
              " 'acceptances',\n",
              " 'accepted',\n",
              " 'acceptedacross',\n",
              " 'acceptence',\n",
              " 'accepting',\n",
              " 'acceptor',\n",
              " 'acceptorless',\n",
              " 'acceptors',\n",
              " 'accepts',\n",
              " 'acces',\n",
              " 'access',\n",
              " 'accessall',\n",
              " 'accessanalysis',\n",
              " 'accesscards',\n",
              " 'accessed',\n",
              " 'accesses',\n",
              " 'accessi',\n",
              " 'accessibil',\n",
              " 'accessibility',\n",
              " 'accessibilityand',\n",
              " 'accessible',\n",
              " 'accessibleand',\n",
              " 'accessing',\n",
              " 'accession',\n",
              " 'accessories',\n",
              " 'accessory',\n",
              " 'accesspattern',\n",
              " 'accessprotocols',\n",
              " 'accetoned',\n",
              " 'accident',\n",
              " 'accidental',\n",
              " 'accidentally',\n",
              " 'accidently',\n",
              " 'accidents',\n",
              " 'acclaimed',\n",
              " 'accleration',\n",
              " 'acclimatization',\n",
              " 'acclimatized',\n",
              " 'acco',\n",
              " 'accom',\n",
              " 'accommo',\n",
              " 'accommodate',\n",
              " 'accommodateany',\n",
              " 'accommodated',\n",
              " 'accommodates',\n",
              " 'accommodating',\n",
              " 'accommodation',\n",
              " 'accommodations',\n",
              " 'accommodative',\n",
              " 'accomodate',\n",
              " 'accomodation',\n",
              " 'accompa',\n",
              " 'accompalished',\n",
              " 'accompanie',\n",
              " 'accompanied',\n",
              " 'accompaniedby',\n",
              " 'accompaniers',\n",
              " 'accompanies',\n",
              " 'accompaniment',\n",
              " 'accompaniments',\n",
              " 'accompany',\n",
              " 'accompanying',\n",
              " 'accompanyingthe',\n",
              " 'accompanyling',\n",
              " 'accomplish',\n",
              " 'accomplished',\n",
              " 'accomplishedon',\n",
              " 'accomplishes',\n",
              " 'accomplishing',\n",
              " 'accomplishment',\n",
              " 'accomplishments',\n",
              " 'accomplishthese',\n",
              " 'accompolished',\n",
              " 'accor',\n",
              " 'accord',\n",
              " 'accordance',\n",
              " 'accordancewith',\n",
              " 'accorded',\n",
              " 'accordi',\n",
              " 'accordin',\n",
              " 'according',\n",
              " 'accordingl',\n",
              " 'accordingly',\n",
              " 'accordinglymodifies',\n",
              " 'accordingto',\n",
              " 'accordion',\n",
              " 'accords',\n",
              " 'accou',\n",
              " 'accoumulate',\n",
              " 'accoun',\n",
              " 'account',\n",
              " 'accounta',\n",
              " 'accountability',\n",
              " 'accountable',\n",
              " 'accountcompared',\n",
              " 'accounted',\n",
              " 'accountedfor',\n",
              " 'accountfactors',\n",
              " 'accounting',\n",
              " 'accountingfor',\n",
              " 'accountof',\n",
              " 'accounts',\n",
              " 'accountsfor',\n",
              " 'accountthe',\n",
              " 'accout',\n",
              " 'accredit',\n",
              " 'accredited',\n",
              " 'accretion',\n",
              " 'accretionary',\n",
              " 'accretive',\n",
              " 'accross',\n",
              " 'accrue',\n",
              " 'accrued',\n",
              " 'accrues',\n",
              " 'accruing',\n",
              " 'accs',\n",
              " 'accu',\n",
              " 'accuimilated',\n",
              " 'acculturation',\n",
              " 'acculturative',\n",
              " 'accumulate',\n",
              " 'accumulated',\n",
              " 'accumulates',\n",
              " 'accumulatesmaximum',\n",
              " 'accumulating',\n",
              " 'accumulation',\n",
              " 'accumulationrather',\n",
              " 'accumulations',\n",
              " 'accumulative',\n",
              " 'accumulator',\n",
              " 'accumulators',\n",
              " 'accur',\n",
              " 'accura',\n",
              " 'accurac',\n",
              " 'accuracies',\n",
              " 'accuracy',\n",
              " 'accuracyachievable',\n",
              " 'accuracycould',\n",
              " 'accuracyfor',\n",
              " 'accuracyis',\n",
              " 'accuracyobtained',\n",
              " 'accuracyof',\n",
              " 'accuracyschemes',\n",
              " 'accuracysuch',\n",
              " 'accuracythe',\n",
              " 'accuracyup',\n",
              " 'accuracywhich',\n",
              " 'accuracywith',\n",
              " 'accurat',\n",
              " 'accurate',\n",
              " 'accurateand',\n",
              " 'accuratecomputional',\n",
              " 'accuratedetermination',\n",
              " 'accurateevaluation',\n",
              " 'accurately',\n",
              " 'accuratelycapture',\n",
              " 'accuratelyidentify',\n",
              " 'accuratelyreproduced',\n",
              " 'accuratemanner',\n",
              " 'accuratemeasurement',\n",
              " 'accurateprebuckling',\n",
              " 'accurateresult',\n",
              " 'accuratesimulation',\n",
              " 'accuratestress',\n",
              " 'accuratetomograms',\n",
              " 'accuratevibrational',\n",
              " 'accurently',\n",
              " 'accurring',\n",
              " 'accus',\n",
              " 'accusative',\n",
              " 'accuse',\n",
              " 'accustomed',\n",
              " 'accvirately',\n",
              " 'acd',\n",
              " 'acdenturates',\n",
              " 'acdr',\n",
              " 'acds',\n",
              " 'ace',\n",
              " 'aced',\n",
              " 'acegtyl',\n",
              " 'aceh',\n",
              " 'acei',\n",
              " 'acelate',\n",
              " 'aceldanta',\n",
              " 'acellular',\n",
              " 'acelp',\n",
              " 'acement',\n",
              " 'acements',\n",
              " 'acenaphthene',\n",
              " 'acentral',\n",
              " 'acentric',\n",
              " 'acentury',\n",
              " 'acertain',\n",
              " 'aces',\n",
              " 'acess',\n",
              " 'acetabular',\n",
              " 'acetal',\n",
              " 'acetaldehyde',\n",
              " 'acetals',\n",
              " 'acetamidate',\n",
              " 'acetamide',\n",
              " 'acetamidecould',\n",
              " 'acetamido',\n",
              " 'acetamidomethylcysteineome',\n",
              " 'acetaminophen',\n",
              " 'acetat',\n",
              " 'acetate',\n",
              " 'acetatecomplexes',\n",
              " 'acetatemembranes',\n",
              " 'acetates',\n",
              " 'acetato',\n",
              " 'aceti',\n",
              " 'acetic',\n",
              " 'acetilacetione',\n",
              " 'aceto',\n",
              " 'acetoacetate',\n",
              " 'acetoacetates',\n",
              " 'acetoclastic',\n",
              " 'acetogenic',\n",
              " 'acetol',\n",
              " 'acetolysis',\n",
              " 'acetonacetate',\n",
              " 'acetone',\n",
              " 'acetonedicarbioxylate',\n",
              " 'acetonedicarboxylatecomplex',\n",
              " 'acetonide',\n",
              " 'acetonides',\n",
              " 'acetonitrile',\n",
              " 'acetonitrilemedium',\n",
              " 'acetonitriles',\n",
              " 'acetophenione',\n",
              " 'acetophenone',\n",
              " 'acetophenones',\n",
              " 'acetoxy',\n",
              " 'acetoxyglucal',\n",
              " 'acetoxyl',\n",
              " 'acetoxymethyl',\n",
              " 'acetyl',\n",
              " 'acetylacetonate',\n",
              " 'acetylacetone',\n",
              " 'acetylated',\n",
              " 'acetylating',\n",
              " 'acetylation',\n",
              " 'acetylcholine',\n",
              " 'acetylcholinesterase',\n",
              " 'acetylebne',\n",
              " 'acetylene',\n",
              " 'acetylenedicarboxylate',\n",
              " 'acetylenedienophilic',\n",
              " 'acetylenerespectively',\n",
              " 'acetylenes',\n",
              " 'acetylfluorene',\n",
              " 'acetylglucosamine',\n",
              " 'acetylides',\n",
              " 'acetyltransferase',\n",
              " 'acetyoacetate',\n",
              " 'acf',\n",
              " 'acfincluded',\n",
              " 'acfs',\n",
              " 'acg',\n",
              " 'acgn',\n",
              " 'ach',\n",
              " 'achaean',\n",
              " 'achallenging',\n",
              " 'achange',\n",
              " 'acharacteristic',\n",
              " 'acharacterization',\n",
              " 'acharya',\n",
              " 'ache',\n",
              " 'acheive',\n",
              " 'acheivements',\n",
              " 'aches',\n",
              " 'achi',\n",
              " 'achiava',\n",
              " 'achie',\n",
              " 'achievability',\n",
              " 'achievable',\n",
              " 'achievablenetwork',\n",
              " 'achievableup',\n",
              " 'achieve',\n",
              " 'achieveaccurate',\n",
              " 'achieved',\n",
              " 'achievedalso',\n",
              " 'achievedin',\n",
              " 'achievedindependently',\n",
              " 'achievedminimum',\n",
              " 'achievedresults',\n",
              " 'achievedthrough',\n",
              " 'achievehigh',\n",
              " 'achievement',\n",
              " 'achievements',\n",
              " 'achieveminimum',\n",
              " 'achievenear',\n",
              " 'achievents',\n",
              " 'achiever',\n",
              " 'achievers',\n",
              " 'achieves',\n",
              " 'achievespeaker',\n",
              " 'achievethe',\n",
              " 'achievi',\n",
              " 'achieving',\n",
              " 'achievingdesired',\n",
              " 'achievinghigh',\n",
              " 'achievingqos',\n",
              " 'achievments',\n",
              " 'achine',\n",
              " 'achines',\n",
              " 'achiral',\n",
              " 'achived',\n",
              " 'achromatic',\n",
              " 'achromospheres',\n",
              " 'achronological',\n",
              " 'aci',\n",
              " 'acial',\n",
              " 'acicular',\n",
              " 'acid',\n",
              " 'acidadditive',\n",
              " 'acidcatalyst',\n",
              " 'acidcatalyzed',\n",
              " 'acidchlorides',\n",
              " 'acidconcentration',\n",
              " 'acidcproton',\n",
              " 'acidenvironments',\n",
              " 'acidextraction',\n",
              " 'acidfunctional',\n",
              " 'acidic',\n",
              " 'acidification',\n",
              " 'acidified',\n",
              " 'acidifier',\n",
              " 'acidis',\n",
              " 'acidite',\n",
              " 'acidity',\n",
              " 'acidof',\n",
              " 'acidogens',\n",
              " 'acidol',\n",
              " 'acidorange',\n",
              " 'acidosis',\n",
              " 'acidred',\n",
              " 'acidrepeat',\n",
              " 'acids',\n",
              " 'acidsc',\n",
              " 'acidsr',\n",
              " 'acidtreated',\n",
              " 'acidwhich',\n",
              " 'acility',\n",
              " 'acing',\n",
              " 'acircular',\n",
              " 'acireductone',\n",
              " 'acitance',\n",
              " 'acitic',\n",
              " 'acity',\n",
              " 'ack',\n",
              " 'ackermann',\n",
              " 'acking',\n",
              " 'ackled',\n",
              " 'acknowledge',\n",
              " 'acknowledged',\n",
              " 'acknowledgement',\n",
              " 'acknowledgements',\n",
              " 'acknowledges',\n",
              " 'acknowledgment',\n",
              " 'acknowledgments',\n",
              " 'ackroyd',\n",
              " 'acks',\n",
              " 'acl',\n",
              " 'aclassic',\n",
              " 'acld',\n",
              " 'aclean',\n",
              " 'acleaned',\n",
              " 'aclearance',\n",
              " 'aclick',\n",
              " 'aclose',\n",
              " 'aclosed',\n",
              " 'acloseness',\n",
              " 'aclr',\n",
              " 'aclustering',\n",
              " 'acm',\n",
              " 'acmap',\n",
              " 'acme',\n",
              " 'acml',\n",
              " 'acms',\n",
              " 'aco',\n",
              " 'acode',\n",
              " 'acoding',\n",
              " 'acofunction',\n",
              " 'acoh',\n",
              " 'acoidonts',\n",
              " 'acollection',\n",
              " 'acollective',\n",
              " 'acombination',\n",
              " 'acombined',\n",
              " 'acombustion',\n",
              " 'acombustor',\n",
              " 'acommercially',\n",
              " 'acommon',\n",
              " 'acommonly',\n",
              " 'acommunication',\n",
              " 'acommunity',\n",
              " 'acompact',\n",
              " 'acomparison',\n",
              " 'acompatible',\n",
              " 'acompetitive',\n",
              " 'acomplementary',\n",
              " 'acomplete',\n",
              " 'acomplex',\n",
              " 'acomplexation',\n",
              " 'acompliant',\n",
              " 'acomplimentary',\n",
              " 'acomponent',\n",
              " 'acompositeindex',\n",
              " 'acompound',\n",
              " 'acomprehensive',\n",
              " 'acomputational',\n",
              " 'acomputer',\n",
              " 'acomputerized',\n",
              " 'aconcentrated',\n",
              " 'aconcentration',\n",
              " 'aconcrete',\n",
              " 'aconcurrent',\n",
              " 'aconductivity',\n",
              " 'aconical',\n",
              " 'aconsequence',\n",
              " 'aconsiderable',\n",
              " 'aconstant',\n",
              " 'aconstraint',\n",
              " 'acontainer',\n",
              " 'acontext',\n",
              " 'acontinuous',\n",
              " 'acontinuously',\n",
              " 'acontribution',\n",
              " 'acontrol',\n",
              " 'acontroller',\n",
              " 'aconventional',\n",
              " 'aconversion',\n",
              " 'aconyne',\n",
              " 'acoo',\n",
              " 'acoolant',\n",
              " 'acorrection',\n",
              " 'acorrective',\n",
              " 'acorrelation',\n",
              " 'acorresponding',\n",
              " 'acost',\n",
              " 'acots',\n",
              " 'acoupled',\n",
              " 'acoust',\n",
              " 'acoustic',\n",
              " 'acoustical',\n",
              " 'acoustically',\n",
              " 'acousticdomain',\n",
              " 'acousticfeedback',\n",
              " 'acousticlevels',\n",
              " 'acousticmeasurements',\n",
              " 'acoustics',\n",
              " 'acousto',\n",
              " 'acoustoelastic',\n",
              " 'acover',\n",
              " 'acp',\n",
              " 'acpar',\n",
              " 'acptdfs',\n",
              " 'acq',\n",
              " 'acqt',\n",
              " 'acquaint',\n",
              " 'acquaintance',\n",
              " 'acquaintances',\n",
              " 'acquainted',\n",
              " 'acquaints',\n",
              " 'acquirable',\n",
              " 'acquire',\n",
              " 'acquired',\n",
              " 'acquiredfrom',\n",
              " 'acquires',\n",
              " 'acquiretheir',\n",
              " 'acquiring',\n",
              " 'acquisi',\n",
              " 'acquisiti',\n",
              " 'acquisition',\n",
              " 'acquisitionby',\n",
              " 'acquisitioncould',\n",
              " 'acquisitionproblem',\n",
              " 'acquisitions',\n",
              " 'acquisitionsystem',\n",
              " 'acquistion',\n",
              " 'acr',\n",
              " 'acrack',\n",
              " 'acrage',\n",
              " 'acrb',\n",
              " 'acre',\n",
              " 'acreages',\n",
              " 'acres',\n",
              " 'acridine',\n",
              " 'acridinium',\n",
              " 'acrifice',\n",
              " 'acrisis',\n",
              " 'acriterion',\n",
              " 'acritical',\n",
              " 'acrives',\n",
              " 'acrl',\n",
              " 'acrobatic',\n",
              " 'acrobatics',\n",
              " 'acrolein',\n",
              " 'acronym',\n",
              " 'acronyms',\n",
              " 'acroos',\n",
              " 'across',\n",
              " 'acrossa',\n",
              " 'acrossan',\n",
              " 'acrossconcepts',\n",
              " 'acrossnonconducting',\n",
              " 'acrossover',\n",
              " 'acrosssparallel',\n",
              " 'acrossthe',\n",
              " 'acrossuction',\n",
              " 'acrss',\n",
              " 'acrt',\n",
              " 'acruciform',\n",
              " 'acryl',\n",
              " 'acrylamide',\n",
              " 'acrylate',\n",
              " 'acrylates',\n",
              " 'acrylic',\n",
              " 'acrylicesters',\n",
              " 'acrylo',\n",
              " 'acrylomtrile',\n",
              " 'acrylonitrile',\n",
              " 'acrylonitriles',\n",
              " ...]"
            ]
          },
          "metadata": {
            "tags": []
          },
          "execution_count": 220
        }
      ]
    },
    {
      "cell_type": "code",
      "metadata": {
        "id": "mrDeNCORP0Q5"
      },
      "source": [
        "#Function for sorting tf_idf in descending order\n",
        "from scipy.sparse import coo_matrix\n",
        "def sort_coo(coo_matrix):\n",
        "    tuples = zip(coo_matrix.col, coo_matrix.data)\n",
        "    return sorted(tuples, key=lambda x: (x[1], x[0]), reverse=True)\n",
        " \n",
        "def extract_topn_from_vector(feature_names, sorted_items, topn):\n",
        "    \"\"\"get the feature names and tf-idf score of top n items\"\"\"\n",
        "    \n",
        "    #use only topn items from vector\n",
        "    sorted_items = sorted_items[:topn]\n",
        " \n",
        "    score_vals = []\n",
        "    feature_vals = []\n",
        "    \n",
        "    # word index and corresponding tf-idf score\n",
        "    for idx, score in sorted_items:\n",
        "        \n",
        "        #keep track of feature name and its corresponding score\n",
        "        score_vals.append(round(score, 3))\n",
        "        feature_vals.append(feature_names[idx])\n",
        " \n",
        "    #create a tuples of feature, score\n",
        "    #results = zip(feature_vals,score_vals)\n",
        "    results= {}\n",
        "    for idx in range(len(feature_vals)):\n",
        "        results[feature_vals[idx]] = score_vals[idx]\n",
        "    \n",
        "    return results"
      ],
      "execution_count": 180,
      "outputs": []
    },
    {
      "cell_type": "code",
      "metadata": {
        "id": "P7pTUmHMP0PB",
        "colab": {
          "base_uri": "https://localhost:8080/"
        },
        "outputId": "56165a64-06e5-4e62-cab7-0d409496dfc9"
      },
      "source": [
        "abstract_new = []\n",
        "for i in range(len(corpus)):\n",
        "  # fetch document for which keywords needs to be extracted\n",
        "  doc = corpus[i]\n",
        "\n",
        "  #generate tf-idf for the given document\n",
        "  tf_idf_vector = tfidf_transformer.transform(cv.transform([doc]))\n",
        "\n",
        "  #sort the tf-idf vectors by descending order of scores\n",
        "  sorted_items = sort_coo(tf_idf_vector.tocoo())\n",
        "\n",
        "  #extract only the top n\n",
        "  keywords = extract_topn_from_vector(feature_names, sorted_items, 50)\n",
        "  \n",
        "  #now print the results\n",
        "  abstract_new.append(list(keywords.keys()))\n",
        "\n",
        "len(abstract_new)"
      ],
      "execution_count": 181,
      "outputs": [
        {
          "output_type": "execute_result",
          "data": {
            "text/plain": [
              "17293"
            ]
          },
          "metadata": {
            "tags": []
          },
          "execution_count": 181
        }
      ]
    },
    {
      "cell_type": "code",
      "metadata": {
        "id": "o4qh2gFpP0NS"
      },
      "source": [
        "dataset['Abstract_Topn'] = abstract_new"
      ],
      "execution_count": 182,
      "outputs": []
    },
    {
      "cell_type": "code",
      "metadata": {
        "colab": {
          "base_uri": "https://localhost:8080/",
          "height": 797
        },
        "id": "hH1fD3UENZOj",
        "outputId": "7b45d5f0-380f-4558-a9e6-8272ef333c17"
      },
      "source": [
        "dataset.head(10)"
      ],
      "execution_count": 183,
      "outputs": [
        {
          "output_type": "execute_result",
          "data": {
            "text/html": [
              "<div>\n",
              "<style scoped>\n",
              "    .dataframe tbody tr th:only-of-type {\n",
              "        vertical-align: middle;\n",
              "    }\n",
              "\n",
              "    .dataframe tbody tr th {\n",
              "        vertical-align: top;\n",
              "    }\n",
              "\n",
              "    .dataframe thead th {\n",
              "        text-align: right;\n",
              "    }\n",
              "</style>\n",
              "<table border=\"1\" class=\"dataframe\">\n",
              "  <thead>\n",
              "    <tr style=\"text-align: right;\">\n",
              "      <th></th>\n",
              "      <th>Unnamed: 0</th>\n",
              "      <th>Submission Date</th>\n",
              "      <th>Title</th>\n",
              "      <th>Author</th>\n",
              "      <th>Supervisor</th>\n",
              "      <th>Degree</th>\n",
              "      <th>Department</th>\n",
              "      <th>Abstract</th>\n",
              "      <th>word_count</th>\n",
              "      <th>Corpus</th>\n",
              "      <th>word_count_corpus</th>\n",
              "      <th>Abstract_Topn</th>\n",
              "    </tr>\n",
              "  </thead>\n",
              "  <tbody>\n",
              "    <tr>\n",
              "      <th>0</th>\n",
              "      <td>0</td>\n",
              "      <td>30-Sep-2020</td>\n",
              "      <td>Generative Models for Zero-Shot and Generalize...</td>\n",
              "      <td>Verma, Vinay Kumar</td>\n",
              "      <td>Rai, Piyush</td>\n",
              "      <td>PH.D.</td>\n",
              "      <td>CSE</td>\n",
              "      <td>Zero-shot learning is the problem of learning ...</td>\n",
              "      <td>304</td>\n",
              "      <td>zero shot learning problem learning classify o...</td>\n",
              "      <td>180</td>\n",
              "      <td>[class, learning, generative, shot, deep, zero...</td>\n",
              "    </tr>\n",
              "    <tr>\n",
              "      <th>1</th>\n",
              "      <td>1</td>\n",
              "      <td>24-Sep-2020</td>\n",
              "      <td>Recrystallization As a Defect Healing Techniqu...</td>\n",
              "      <td>Vishal, Utkarsh</td>\n",
              "      <td>Shekhar, Shashank</td>\n",
              "      <td>M.TECH.</td>\n",
              "      <td>MSE</td>\n",
              "      <td>In the current world, the major focus is on th...</td>\n",
              "      <td>503</td>\n",
              "      <td>current world major focus designing material a...</td>\n",
              "      <td>282</td>\n",
              "      <td>[material, recrystallization, ductility, cgp, ...</td>\n",
              "    </tr>\n",
              "    <tr>\n",
              "      <th>2</th>\n",
              "      <td>2</td>\n",
              "      <td>19-Sep-2020</td>\n",
              "      <td>Development of a rapid soil testing tool for r...</td>\n",
              "      <td>Ahmad, Ashar</td>\n",
              "      <td>Singh, Jayant K</td>\n",
              "      <td>M.TECH.</td>\n",
              "      <td>CHE</td>\n",
              "      <td>Rapid increase in population and decline in cu...</td>\n",
              "      <td>278</td>\n",
              "      <td>rapid increase population decline cultivated l...</td>\n",
              "      <td>171</td>\n",
              "      <td>[soil, nir, nutrient, fertilizer, device, heal...</td>\n",
              "    </tr>\n",
              "    <tr>\n",
              "      <th>3</th>\n",
              "      <td>3</td>\n",
              "      <td>15-Sep-2020</td>\n",
              "      <td>Optimal Hybrid Precoder Designs for the Linear...</td>\n",
              "      <td>Raghubabu, Akarapu</td>\n",
              "      <td>Jagannatham, Aditya K</td>\n",
              "      <td>M.TECH.</td>\n",
              "      <td>EE</td>\n",
              "      <td>Internet of things (IoT) is the most prominent...</td>\n",
              "      <td>259</td>\n",
              "      <td>internet thing iot prominent technology fth ge...</td>\n",
              "      <td>158</td>\n",
              "      <td>[sensor, fusion, constraint, snr, technology, ...</td>\n",
              "    </tr>\n",
              "    <tr>\n",
              "      <th>4</th>\n",
              "      <td>4</td>\n",
              "      <td>15-Sep-2020</td>\n",
              "      <td>Discernment of the Induced Third Order Optical...</td>\n",
              "      <td>Chaturvedi, Umang</td>\n",
              "      <td>Goswami, Debabrata</td>\n",
              "      <td>M.TECH.</td>\n",
              "      <td>CELP</td>\n",
              "      <td>This thesis presents the nonlinear optical beh...</td>\n",
              "      <td>128</td>\n",
              "      <td>thesis present nonlinear optical behavior meth...</td>\n",
              "      <td>83</td>\n",
              "      <td>[nonlinear, methanol, laser, beam, optical, sc...</td>\n",
              "    </tr>\n",
              "    <tr>\n",
              "      <th>5</th>\n",
              "      <td>5</td>\n",
              "      <td>12-Sep-2020</td>\n",
              "      <td>Strain Engineering Ferroic Properties in Two-D...</td>\n",
              "      <td>Mahajan, Akshay</td>\n",
              "      <td>Bhowmick, Somnath</td>\n",
              "      <td>M.TECH.</td>\n",
              "      <td>MSE</td>\n",
              "      <td>Two-dimensional (2D) ferroic materials have a ...</td>\n",
              "      <td>208</td>\n",
              "      <td>dimensional ferroic material special place fam...</td>\n",
              "      <td>135</td>\n",
              "      <td>[ferroelectric, material, strain, ferroic, mul...</td>\n",
              "    </tr>\n",
              "    <tr>\n",
              "      <th>6</th>\n",
              "      <td>6</td>\n",
              "      <td>10-Sep-2020</td>\n",
              "      <td>Development of Lead Free Organometallic Halide...</td>\n",
              "      <td>Kumar, Prashant</td>\n",
              "      <td>Maiti, Tanmoy</td>\n",
              "      <td>M.TECH.</td>\n",
              "      <td>MSE</td>\n",
              "      <td>Perovskite based solar cell (PSC) has generate...</td>\n",
              "      <td>280</td>\n",
              "      <td>perovskite solar cell psc generated lot intere...</td>\n",
              "      <td>186</td>\n",
              "      <td>[perovskites, perovskite, inorganic, pscs, met...</td>\n",
              "    </tr>\n",
              "    <tr>\n",
              "      <th>7</th>\n",
              "      <td>7</td>\n",
              "      <td>10-Sep-2020</td>\n",
              "      <td>Channel Estimation in mmWave MIMO-OFDM systems...</td>\n",
              "      <td>Nath, Jaitra</td>\n",
              "      <td>Jagannatham, Aditya K</td>\n",
              "      <td>M.TECH.</td>\n",
              "      <td>EE</td>\n",
              "      <td>Channel estimation is pivotal in millimetre wa...</td>\n",
              "      <td>211</td>\n",
              "      <td>channel estimation pivotal millimetre wave mmw...</td>\n",
              "      <td>144</td>\n",
              "      <td>[mmwave, channel, estimation, pilot, signal, b...</td>\n",
              "    </tr>\n",
              "    <tr>\n",
              "      <th>8</th>\n",
              "      <td>8</td>\n",
              "      <td>8-Sep-2020</td>\n",
              "      <td>Improving Legal Statute Retrieval using Releva...</td>\n",
              "      <td>Joshi, Shashank</td>\n",
              "      <td>Bhattacharya, Arnab</td>\n",
              "      <td>M.TECH.</td>\n",
              "      <td>CSE</td>\n",
              "      <td>Legal statute retrieval is a novel Information...</td>\n",
              "      <td>157</td>\n",
              "      <td>legal statute retrieval novel information retr...</td>\n",
              "      <td>88</td>\n",
              "      <td>[statute, retrieval, legal, corpus, law, task,...</td>\n",
              "    </tr>\n",
              "    <tr>\n",
              "      <th>9</th>\n",
              "      <td>9</td>\n",
              "      <td>7-Sep-2020</td>\n",
              "      <td>Computational study of flow field and associat...</td>\n",
              "      <td>Sinha, Anshuman</td>\n",
              "      <td>Singh, Amarendra Kumar</td>\n",
              "      <td>M.TECH.</td>\n",
              "      <td>MSE</td>\n",
              "      <td>The demand for quality steel is becoming more ...</td>\n",
              "      <td>180</td>\n",
              "      <td>demand quality steel becoming stringent modern...</td>\n",
              "      <td>93</td>\n",
              "      <td>[desulfurisation, ppm, ladle, slag, steel, flu...</td>\n",
              "    </tr>\n",
              "  </tbody>\n",
              "</table>\n",
              "</div>"
            ],
            "text/plain": [
              "   Unnamed: 0  ...                                      Abstract_Topn\n",
              "0           0  ...  [class, learning, generative, shot, deep, zero...\n",
              "1           1  ...  [material, recrystallization, ductility, cgp, ...\n",
              "2           2  ...  [soil, nir, nutrient, fertilizer, device, heal...\n",
              "3           3  ...  [sensor, fusion, constraint, snr, technology, ...\n",
              "4           4  ...  [nonlinear, methanol, laser, beam, optical, sc...\n",
              "5           5  ...  [ferroelectric, material, strain, ferroic, mul...\n",
              "6           6  ...  [perovskites, perovskite, inorganic, pscs, met...\n",
              "7           7  ...  [mmwave, channel, estimation, pilot, signal, b...\n",
              "8           8  ...  [statute, retrieval, legal, corpus, law, task,...\n",
              "9           9  ...  [desulfurisation, ppm, ladle, slag, steel, flu...\n",
              "\n",
              "[10 rows x 12 columns]"
            ]
          },
          "metadata": {
            "tags": []
          },
          "execution_count": 183
        }
      ]
    },
    {
      "cell_type": "code",
      "metadata": {
        "id": "f5kc34PhNatx"
      },
      "source": [
        "#dataset.drop(['Unnamed: 0', 'Abstract', 'word_count', 'Corpus', 'word_count_corpus'], axis=1, inplace=True)"
      ],
      "execution_count": 134,
      "outputs": []
    },
    {
      "cell_type": "code",
      "metadata": {
        "colab": {
          "base_uri": "https://localhost:8080/"
        },
        "id": "Cpv3U911OOhR",
        "outputId": "c0851e1e-a770-488b-acf7-01e5fb4ce848"
      },
      "source": [
        "#dataset.columns"
      ],
      "execution_count": 135,
      "outputs": [
        {
          "output_type": "execute_result",
          "data": {
            "text/plain": [
              "Index(['Submission Date', 'Title', 'Author', 'Supervisor', 'Degree',\n",
              "       'Department', 'Abstract_Topn'],\n",
              "      dtype='object')"
            ]
          },
          "metadata": {
            "tags": []
          },
          "execution_count": 135
        }
      ]
    },
    {
      "cell_type": "code",
      "metadata": {
        "colab": {
          "base_uri": "https://localhost:8080/",
          "height": 347
        },
        "id": "g-JrtvkwORtt",
        "outputId": "1c85c84f-1314-4847-cb34-45e3b0060290"
      },
      "source": [
        "#dataset.head(10)"
      ],
      "execution_count": 151,
      "outputs": [
        {
          "output_type": "execute_result",
          "data": {
            "text/html": [
              "<div>\n",
              "<style scoped>\n",
              "    .dataframe tbody tr th:only-of-type {\n",
              "        vertical-align: middle;\n",
              "    }\n",
              "\n",
              "    .dataframe tbody tr th {\n",
              "        vertical-align: top;\n",
              "    }\n",
              "\n",
              "    .dataframe thead th {\n",
              "        text-align: right;\n",
              "    }\n",
              "</style>\n",
              "<table border=\"1\" class=\"dataframe\">\n",
              "  <thead>\n",
              "    <tr style=\"text-align: right;\">\n",
              "      <th></th>\n",
              "      <th>Submission Date</th>\n",
              "      <th>Title</th>\n",
              "      <th>Author</th>\n",
              "      <th>Supervisor</th>\n",
              "      <th>Degree</th>\n",
              "      <th>Department</th>\n",
              "      <th>Abstract_Topn</th>\n",
              "    </tr>\n",
              "  </thead>\n",
              "  <tbody>\n",
              "    <tr>\n",
              "      <th>0</th>\n",
              "      <td>30-Sep-2020</td>\n",
              "      <td>Generative Models for Zero-Shot and Generalize...</td>\n",
              "      <td>Verma, Vinay Kumar</td>\n",
              "      <td>Rai, Piyush</td>\n",
              "      <td>PH.D.</td>\n",
              "      <td>CSE</td>\n",
              "      <td>[class, learning, generative, shot, deep, zero...</td>\n",
              "    </tr>\n",
              "    <tr>\n",
              "      <th>1</th>\n",
              "      <td>24-Sep-2020</td>\n",
              "      <td>Recrystallization As a Defect Healing Techniqu...</td>\n",
              "      <td>Vishal, Utkarsh</td>\n",
              "      <td>Shekhar, Shashank</td>\n",
              "      <td>M.TECH.</td>\n",
              "      <td>MSE</td>\n",
              "      <td>[material, recrystallization, ductility, cgp, ...</td>\n",
              "    </tr>\n",
              "    <tr>\n",
              "      <th>2</th>\n",
              "      <td>19-Sep-2020</td>\n",
              "      <td>Development of a rapid soil testing tool for r...</td>\n",
              "      <td>Ahmad, Ashar</td>\n",
              "      <td>Singh, Jayant K</td>\n",
              "      <td>M.TECH.</td>\n",
              "      <td>CHE</td>\n",
              "      <td>[soil, nir, nutrient, fertilizer, device, heal...</td>\n",
              "    </tr>\n",
              "    <tr>\n",
              "      <th>3</th>\n",
              "      <td>15-Sep-2020</td>\n",
              "      <td>Optimal Hybrid Precoder Designs for the Linear...</td>\n",
              "      <td>Raghubabu, Akarapu</td>\n",
              "      <td>Jagannatham, Aditya K</td>\n",
              "      <td>M.TECH.</td>\n",
              "      <td>EE</td>\n",
              "      <td>[sensor, fusion, constraint, snr, technology, ...</td>\n",
              "    </tr>\n",
              "    <tr>\n",
              "      <th>4</th>\n",
              "      <td>15-Sep-2020</td>\n",
              "      <td>Discernment of the Induced Third Order Optical...</td>\n",
              "      <td>Chaturvedi, Umang</td>\n",
              "      <td>Goswami, Debabrata</td>\n",
              "      <td>M.TECH.</td>\n",
              "      <td>CELP</td>\n",
              "      <td>[nonlinear, methanol, laser, beam, optical, sc...</td>\n",
              "    </tr>\n",
              "    <tr>\n",
              "      <th>5</th>\n",
              "      <td>12-Sep-2020</td>\n",
              "      <td>Strain Engineering Ferroic Properties in Two-D...</td>\n",
              "      <td>Mahajan, Akshay</td>\n",
              "      <td>Bhowmick, Somnath</td>\n",
              "      <td>M.TECH.</td>\n",
              "      <td>MSE</td>\n",
              "      <td>[ferroelectric, material, strain, ferroic, mul...</td>\n",
              "    </tr>\n",
              "    <tr>\n",
              "      <th>6</th>\n",
              "      <td>10-Sep-2020</td>\n",
              "      <td>Development of Lead Free Organometallic Halide...</td>\n",
              "      <td>Kumar, Prashant</td>\n",
              "      <td>Maiti, Tanmoy</td>\n",
              "      <td>M.TECH.</td>\n",
              "      <td>MSE</td>\n",
              "      <td>[perovskites, perovskite, inorganic, pscs, met...</td>\n",
              "    </tr>\n",
              "    <tr>\n",
              "      <th>7</th>\n",
              "      <td>10-Sep-2020</td>\n",
              "      <td>Channel Estimation in mmWave MIMO-OFDM systems...</td>\n",
              "      <td>Nath, Jaitra</td>\n",
              "      <td>Jagannatham, Aditya K</td>\n",
              "      <td>M.TECH.</td>\n",
              "      <td>EE</td>\n",
              "      <td>[mmwave, channel, estimation, pilot, signal, b...</td>\n",
              "    </tr>\n",
              "    <tr>\n",
              "      <th>8</th>\n",
              "      <td>8-Sep-2020</td>\n",
              "      <td>Improving Legal Statute Retrieval using Releva...</td>\n",
              "      <td>Joshi, Shashank</td>\n",
              "      <td>Bhattacharya, Arnab</td>\n",
              "      <td>M.TECH.</td>\n",
              "      <td>CSE</td>\n",
              "      <td>[statute, retrieval, legal, corpus, law, task,...</td>\n",
              "    </tr>\n",
              "    <tr>\n",
              "      <th>9</th>\n",
              "      <td>7-Sep-2020</td>\n",
              "      <td>Computational study of flow field and associat...</td>\n",
              "      <td>Sinha, Anshuman</td>\n",
              "      <td>Singh, Amarendra Kumar</td>\n",
              "      <td>M.TECH.</td>\n",
              "      <td>MSE</td>\n",
              "      <td>[desulfurisation, ppm, ladle, slag, steel, flu...</td>\n",
              "    </tr>\n",
              "  </tbody>\n",
              "</table>\n",
              "</div>"
            ],
            "text/plain": [
              "  Submission Date  ...                                      Abstract_Topn\n",
              "0     30-Sep-2020  ...  [class, learning, generative, shot, deep, zero...\n",
              "1     24-Sep-2020  ...  [material, recrystallization, ductility, cgp, ...\n",
              "2     19-Sep-2020  ...  [soil, nir, nutrient, fertilizer, device, heal...\n",
              "3     15-Sep-2020  ...  [sensor, fusion, constraint, snr, technology, ...\n",
              "4     15-Sep-2020  ...  [nonlinear, methanol, laser, beam, optical, sc...\n",
              "5     12-Sep-2020  ...  [ferroelectric, material, strain, ferroic, mul...\n",
              "6     10-Sep-2020  ...  [perovskites, perovskite, inorganic, pscs, met...\n",
              "7     10-Sep-2020  ...  [mmwave, channel, estimation, pilot, signal, b...\n",
              "8      8-Sep-2020  ...  [statute, retrieval, legal, corpus, law, task,...\n",
              "9      7-Sep-2020  ...  [desulfurisation, ppm, ladle, slag, steel, flu...\n",
              "\n",
              "[10 rows x 7 columns]"
            ]
          },
          "metadata": {
            "tags": []
          },
          "execution_count": 151
        }
      ]
    },
    {
      "cell_type": "code",
      "metadata": {
        "id": "asd7Hl3cOaPU"
      },
      "source": [
        "#dataset.to_csv('Data_topn.csv')"
      ],
      "execution_count": 137,
      "outputs": []
    },
    {
      "cell_type": "code",
      "metadata": {
        "id": "gsh6kqFW_QhD"
      },
      "source": [
        ""
      ],
      "execution_count": null,
      "outputs": []
    },
    {
      "cell_type": "markdown",
      "metadata": {
        "id": "LO1ymMyX8f4D"
      },
      "source": [
        "Generate WordClouds based on department"
      ]
    },
    {
      "cell_type": "code",
      "metadata": {
        "colab": {
          "base_uri": "https://localhost:8080/"
        },
        "id": "zOPTTWL0cg3J",
        "outputId": "7312d761-2661-46b1-95b9-14bd190c4786"
      },
      "source": [
        "print(dataset.shape)\n",
        "len(corpus)"
      ],
      "execution_count": 184,
      "outputs": [
        {
          "output_type": "stream",
          "text": [
            "(17293, 12)\n"
          ],
          "name": "stdout"
        },
        {
          "output_type": "execute_result",
          "data": {
            "text/plain": [
              "17293"
            ]
          },
          "metadata": {
            "tags": []
          },
          "execution_count": 184
        }
      ]
    },
    {
      "cell_type": "code",
      "metadata": {
        "id": "fmh4p1mXee6d"
      },
      "source": [
        "#Create a dictionary where key will be department name, value will be list of dataset indices of articles in that department\n",
        "department_dict = {} \n",
        "for i in range(dataset.shape[0]):\n",
        "  if dataset['Department'][i] not in department_dict.keys(): #initialize department index list if first occurence of department\n",
        "    department_dict[dataset['Department'][i]] = []\n",
        "  department_dict[dataset['Department'][i]].append(i)      "
      ],
      "execution_count": 223,
      "outputs": []
    },
    {
      "cell_type": "code",
      "metadata": {
        "colab": {
          "base_uri": "https://localhost:8080/"
        },
        "id": "K6jzyMCAYwPF",
        "outputId": "7a1875a0-5413-4d6e-dea4-0791f9e07771"
      },
      "source": [
        "department_dict.keys()"
      ],
      "execution_count": 224,
      "outputs": [
        {
          "output_type": "execute_result",
          "data": {
            "text/plain": [
              "dict_keys(['CSE', 'MSE', 'CHE', 'EE', 'CELP', 'EEMP', 'CE', 'MSP', 'DP', 'AE', 'IME', 'ME', 'CHM', 'BSBE', 'ES', 'HSS', 'PHY', 'MATH', 'NETP', 'ECO', 'MME', 'NET', 'EEM', 'MATH & STATS', 'DES', 'LT', '-', 'LTP', 'Civil'])"
            ]
          },
          "metadata": {
            "tags": []
          },
          "execution_count": 224
        }
      ]
    },
    {
      "cell_type": "code",
      "metadata": {
        "colab": {
          "base_uri": "https://localhost:8080/"
        },
        "id": "Aof_cSuh9GtB",
        "outputId": "0cd07bc4-1ee5-4399-fcd1-6dd48e05ac10"
      },
      "source": [
        "\"\"\"\n",
        "#verify\n",
        "index_count = 0\n",
        "for key in department_dict.keys():\n",
        "  index_count += len(department_dict[key])\n",
        "\n",
        "index_count  \n",
        "\"\"\""
      ],
      "execution_count": 152,
      "outputs": [
        {
          "output_type": "execute_result",
          "data": {
            "text/plain": [
              "17293"
            ]
          },
          "metadata": {
            "tags": []
          },
          "execution_count": 152
        }
      ]
    },
    {
      "cell_type": "code",
      "metadata": {
        "colab": {
          "base_uri": "https://localhost:8080/"
        },
        "id": "8PhpwysT9Gx2",
        "outputId": "a1a65877-4cc9-4886-82c5-f69df777fe86"
      },
      "source": [
        "#combine the abstracts based on department name, find tf-idf values, select top 200 values, map them to a dictionary, and generate word cloud\n",
        "for department in department_dict.keys():\n",
        "  cv = CountVectorizer(max_df=0.8, stop_words=stop_words)\n",
        "  corpus_dept = []\n",
        "  for i in department_dict[department]:\n",
        "    corpus_dept.append(corpus[i])\n",
        "\n",
        "  X = cv.fit_transform(corpus_dept)\n",
        "\n",
        "  tfidf_transformer = TfidfTransformer(smooth_idf=True,use_idf=True)\n",
        "  tfidf_transformer.fit(X)\n",
        "  feature_names = cv.get_feature_names()\n",
        "\n",
        "  keywords_dict = {}\n",
        "  for i in range(len(corpus_dept)):\n",
        "    doc = corpus[i]\n",
        "    tf_idf_vector = tfidf_transformer.transform(cv.transform([doc]))\n",
        "    sorted_items = sort_coo(tf_idf_vector.tocoo())\n",
        "    keywords = extract_topn_from_vector(feature_names, sorted_items, 30)\n",
        "    keywords_dict.update(keywords)\n",
        "\n",
        "  "
      ],
      "execution_count": 149,
      "outputs": [
        {
          "output_type": "execute_result",
          "data": {
            "text/plain": [
              "0"
            ]
          },
          "metadata": {
            "tags": []
          },
          "execution_count": 149
        }
      ]
    },
    {
      "cell_type": "code",
      "metadata": {
        "colab": {
          "base_uri": "https://localhost:8080/"
        },
        "id": "nQmKc5JZ9G0r",
        "outputId": "13708d60-44df-432b-a0e1-244300b5517c"
      },
      "source": [
        "c = 0\n",
        "for i in range(dataset.shape[0]):\n",
        "  if i in department_dict['CSE']:\n",
        "    if dataset['Department'][i] == 'CSE':\n",
        "      c += 1\n",
        "c, len(department_dict['CSE'])      "
      ],
      "execution_count": 225,
      "outputs": [
        {
          "output_type": "execute_result",
          "data": {
            "text/plain": [
              "(1565, 1565)"
            ]
          },
          "metadata": {
            "tags": []
          },
          "execution_count": 225
        }
      ]
    },
    {
      "cell_type": "code",
      "metadata": {
        "id": "pSc46O0b9G94"
      },
      "source": [
        "department = 'CSE'\n",
        "cv = CountVectorizer(max_df=0.8, stop_words=stop_words)\n",
        "corpus_dept = []\n",
        "for i in department_dict[department]:\n",
        "  corpus_dept.append(corpus[i])\n",
        "\n",
        "X = cv.fit_transform(corpus_dept)\n",
        "\n",
        "tfidf_transformer = TfidfTransformer(smooth_idf=True, use_idf=True)\n",
        "tfidf_transformer.fit(X)\n",
        "feature_names = cv.get_feature_names()\n",
        "\n",
        "keywords_dict = {}\n",
        "for i in range(len(corpus_dept)):\n",
        "  doc = corpus_dept[i]\n",
        "  tf_idf_vector = tfidf_transformer.transform(cv.transform([doc]))\n",
        "  sorted_items = sort_coo(tf_idf_vector.tocoo())\n",
        "  keywords = extract_topn_from_vector(feature_names, sorted_items, 30)\n",
        "  keywords_dict.update(keywords)"
      ],
      "execution_count": 226,
      "outputs": []
    },
    {
      "cell_type": "code",
      "metadata": {
        "colab": {
          "base_uri": "https://localhost:8080/"
        },
        "id": "ofLdXVeFT2u7",
        "outputId": "e984863f-50fc-43ab-f274-d34b8e472958"
      },
      "source": [
        "len(keywords_dict)"
      ],
      "execution_count": 227,
      "outputs": [
        {
          "output_type": "execute_result",
          "data": {
            "text/plain": [
              "15399"
            ]
          },
          "metadata": {
            "tags": []
          },
          "execution_count": 227
        }
      ]
    },
    {
      "cell_type": "code",
      "metadata": {
        "colab": {
          "base_uri": "https://localhost:8080/"
        },
        "id": "OnFDwq0CZ2CZ",
        "outputId": "1b178804-bbdd-4ab2-9c14-0d13d51827ca"
      },
      "source": [
        "from collections import Counter\n",
        "k = Counter(keywords_dict) \n",
        "high = k.most_common(30) \n",
        "high"
      ],
      "execution_count": 228,
      "outputs": [
        {
          "output_type": "execute_result",
          "data": {
            "text/plain": [
              "[('tenant', 0.842),\n",
              " ('scilab', 0.792),\n",
              " ('gis', 0.789),\n",
              " ('icns', 0.764),\n",
              " ('theses', 0.76),\n",
              " ('mcsp', 0.742),\n",
              " ('antimatching', 0.731),\n",
              " ('residues', 0.73),\n",
              " ('joins', 0.718),\n",
              " ('geoftp', 0.714),\n",
              " ('keccak', 0.704),\n",
              " ('inventory', 0.704),\n",
              " ('mpeg', 0.704),\n",
              " ('closure', 0.703),\n",
              " ('cobal', 0.694),\n",
              " ('auction', 0.692),\n",
              " ('tal', 0.69),\n",
              " ('cipher', 0.689),\n",
              " ('oram', 0.684),\n",
              " ('trees', 0.682),\n",
              " ('osd', 0.671),\n",
              " ('ear', 0.659),\n",
              " ('authorization', 0.659),\n",
              " ('fotol', 0.655),\n",
              " ('ipv', 0.65),\n",
              " ('thank', 0.645),\n",
              " ('ciphertext', 0.643),\n",
              " ('skyline', 0.641),\n",
              " ('atm', 0.639),\n",
              " ('ecg', 0.638)]"
            ]
          },
          "metadata": {
            "tags": []
          },
          "execution_count": 228
        }
      ]
    },
    {
      "cell_type": "code",
      "metadata": {
        "colab": {
          "base_uri": "https://localhost:8080/",
          "height": 215
        },
        "id": "AWsqBKTK9HBR",
        "outputId": "70b23d86-8a49-4e70-a1f5-adff99965231"
      },
      "source": [
        "wordcloud = WordCloud(    background_color='white',\n",
        "                          stopwords=stop_words,\n",
        "                          max_words=200,\n",
        "                          max_font_size=50, \n",
        "                          random_state=42,\n",
        "                         ).generate_from_frequencies(keywords_dict)\n",
        "print(wordcloud)\n",
        "fig = plt.figure(1)\n",
        "plt.imshow(wordcloud)\n",
        "plt.axis('off')\n",
        "plt.show()"
      ],
      "execution_count": 229,
      "outputs": [
        {
          "output_type": "stream",
          "text": [
            "<wordcloud.wordcloud.WordCloud object at 0x7f105a376e80>\n"
          ],
          "name": "stdout"
        },
        {
          "output_type": "display_data",
          "data": {
            "image/png": "[encoded data removed]",
            "text/plain": [
              "<Figure size 432x288 with 1 Axes>"
            ]
          },
          "metadata": {
            "tags": [],
            "needs_background": "light"
          }
        }
      ]
    },
    {
      "cell_type": "code",
      "metadata": {
        "colab": {
          "base_uri": "https://localhost:8080/",
          "height": 215
        },
        "id": "NTM8bTY82GHT",
        "outputId": "0e2bb805-89df-4e18-ae81-26206520561a"
      },
      "source": [
        "#word cloud of the entire dataset\n",
        "from os import path\n",
        "from PIL import Image\n",
        "from wordcloud import WordCloud, STOPWORDS, ImageColorGenerator\n",
        "import matplotlib.pyplot as plt\n",
        "% matplotlib inline\n",
        "wordcloud = WordCloud(    background_color='white',\n",
        "                          stopwords=stop_words,\n",
        "                          max_words=30,\n",
        "                          max_font_size=50, \n",
        "                          random_state=42,\n",
        "                         ).generate_from_frequencies(keywords)\n",
        "print(wordcloud)\n",
        "fig = plt.figure(1)\n",
        "plt.imshow(wordcloud)\n",
        "plt.axis('off')\n",
        "plt.show()"
      ],
      "execution_count": 104,
      "outputs": [
        {
          "output_type": "stream",
          "text": [
            "<wordcloud.wordcloud.WordCloud object at 0x7f10697f39e8>\n"
          ],
          "name": "stdout"
        },
        {
          "output_type": "display_data",
          "data": {
            "image/png": "[encoded data removed]",
            "text/plain": [
              "<Figure size 432x288 with 1 Axes>"
            ]
          },
          "metadata": {
            "tags": [],
            "needs_background": "light"
          }
        }
      ]
    },
    {
      "cell_type": "code",
      "metadata": {
        "id": "OFwCAD1N2GL6"
      },
      "source": [
        ""
      ],
      "execution_count": null,
      "outputs": []
    },
    {
      "cell_type": "code",
      "metadata": {
        "id": "BljtQZOl2GKJ"
      },
      "source": [
        ""
      ],
      "execution_count": null,
      "outputs": []
    },
    {
      "cell_type": "code",
      "metadata": {
        "id": "NPqIUU5c2GFz"
      },
      "source": [
        ""
      ],
      "execution_count": null,
      "outputs": []
    },
    {
      "cell_type": "code",
      "metadata": {
        "id": "jRV3Qo9Q2GE9"
      },
      "source": [
        ""
      ],
      "execution_count": null,
      "outputs": []
    },
    {
      "cell_type": "code",
      "metadata": {
        "id": "_Cg7Oy3m2GAz"
      },
      "source": [
        ""
      ],
      "execution_count": null,
      "outputs": []
    },
    {
      "cell_type": "code",
      "metadata": {
        "id": "7AKtNdoR2F7P"
      },
      "source": [
        ""
      ],
      "execution_count": null,
      "outputs": []
    }
  ]
}